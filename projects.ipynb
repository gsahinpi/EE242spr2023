{
 "cells": [
  {
   "cell_type": "code",
   "execution_count": null,
   "metadata": {
    "vscode": {
     "languageId": "plaintext"
    }
   },
   "outputs": [],
   "source": []
  },
  {
   "attachments": {},
   "cell_type": "markdown",
   "metadata": {},
   "source": [
    "1) \n",
    "design a  system that sends 1 byte of data in 2 seconds. You should select two pins ((gpio input and output)) one drived from your name and one from your surname (like you were supposed to in the first midterm). İn put string should be entered through usb interface and the output string should also be echoed through usbcdc and all the necassary parameters be should be configurable through usb .\n",
    "\n",
    "\n",
    "a) (30 pts due to 30th of May) be able to produce your  2 seconds signal and monitor it in STMCube monitor . In case you are using a simulation software find another way to demonstrate."
   ]
  },
  {
   "attachments": {},
   "cell_type": "markdown",
   "metadata": {},
   "source": [
    "2) Design a system which uses a led on board  whose intensity is aranged by pwm. You wil determine the duty cyle and period using a ldr or phototransistor. the produced and detected  pwm period and duty cyle will be broadcasted through usb, and all the necassary parameters be should be configurable through usb .\n",
    "\n",
    " a) (30 pts due to 30th of May) be able to produce your signals and monitor them in STMCube monitor . In case you are using a simulation software find another way to demonstrate."
   ]
  },
  {
   "attachments": {},
   "cell_type": "markdown",
   "metadata": {},
   "source": [
    "3) Paper pensil (9b) temperature sensor: Create a temperature sensor using paper and pencil.  use a real temperature sensor to calibrate your paper pensil sensor. All your readings should be relayed to usb and all the necassary parameters be should be configurable through usb .\n",
    "\n",
    "a) (30 pts due to 30th of May) see your temperature sensor (the one used for calibration) and monitor them in STMCube monitor . In case you are using a simulation software find another way to demonstrate."
   ]
  },
  {
   "attachments": {},
   "cell_type": "markdown",
   "metadata": {},
   "source": [
    "4) Detect the flickering of lamps attached to the grid  using a phototransistor.All your readings should be relayed to usb and all the necassary parameters be should be configurable through usb .\n",
    "a) (30 pts due to 30th of May)  monitor the output of phototransistor in STMCube monitor . In case you are using a simulation software find another way to demonstrate.\n"
   ]
  },
  {
   "attachments": {},
   "cell_type": "markdown",
   "metadata": {},
   "source": [
    "5) Using paper and pencil create structure like https://www.youtube.com/watch?v=XfVz9Otxzyo (flexar). Using pwm change the current passing through your structure. Read the magnetic field using your mobile phone. You should be able to change the pwm and duty cycle thorugh usb and read the resultant voltage and relay to usb.\n",
    "a) (30 pts due to 30th of May)  monitor the output of pwm when conncted to your structure in STMCube monitor . In case you are using a simulation software find another way to demonstrate."
   ]
  },
  {
   "attachments": {},
   "cell_type": "markdown",
   "metadata": {},
   "source": [
    "6) ONly for the inviduals who get higher than 89 in the midterm:\n",
    " This project will evantually be a group project where we will connect all the boards that attend to this project. We will start to discover the fundementals of neural networks  and create a simple bare metal neural netork. \n",
    " The first step is creating a perceptron using pwm and adc. what is a perceptron: see https://www.youtube.com/watch?v=aircAruvnKk\n",
    "\n",
    "a) (30 pts due to 30th of May) implement one perceptron."
   ]
  }
 ],
 "metadata": {
  "language_info": {
   "name": "python"
  },
  "orig_nbformat": 4
 },
 "nbformat": 4,
 "nbformat_minor": 2
}
