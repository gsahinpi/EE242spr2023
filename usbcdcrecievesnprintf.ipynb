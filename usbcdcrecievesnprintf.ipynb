{
 "cells": [
  {
   "cell_type": "markdown",
   "metadata": {},
   "source": [
    "Define a buffer in the main.c file as shown below\n",
    "\n",
    "uint8_t buffer[64];\n",
    "define the same in the usbd_cdc_if.c file  as extern\n",
    "extern uint8_t buffer[64];\n",
    "\n",
    "static int8_t CDC_Receive_FS(uint8_t* Buf, uint32_t *Len)\n",
    "{\n",
    "  /* USER CODE BEGIN 6 */\n",
    "  USBD_CDC_SetRxBuffer(&hUsbDeviceFS, &Buf[0]);\n",
    "  USBD_CDC_ReceivePacket(&hUsbDeviceFS);\n",
    "  \n",
    "  memset (buffer, '\\0', 64);  // clear the buffer\n",
    "  uint8_t len = (uint8_t)*Len;\n",
    "  memcpy(buffer, Buf, len);  // copy the data to the buffer\n",
    "  memset(Buf, '\\0', len);   // clear the Buf also\n",
    "  \n",
    "  return (USBD_OK);\n",
    "  /* USER CODE END 6 */\n",
    "}"
   ]
  },
  {
   "cell_type": "markdown",
   "metadata": {},
   "source": []
  }
 ],
 "metadata": {
  "language_info": {
   "name": "python"
  },
  "orig_nbformat": 4
 },
 "nbformat": 4,
 "nbformat_minor": 2
}
