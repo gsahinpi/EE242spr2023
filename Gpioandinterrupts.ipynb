{
 "cells": [
  {
   "cell_type": "markdown",
   "metadata": {},
   "source": [
    " #### Most modern GPIO pins are implemented as a tri-state buffer.\n",
    "\n",
    "In digital circuits, a high impedance (also known as hi-Z, tri-stated, or floating) output is not being driven to any defined logic level by the output circuit.\n",
    " The signal is neither driven to a logical high nor low level; this third condition leads to the description \"tri-stated\".\n",
    " \n",
    "\n",
    "The high-impedance state of a given node in a circuit cannot be verified by a voltage measurement alone. A pull-up resistor (or pull-down resistor) can be used as a medium-impedance source to try to pull the wire to a high (or low) voltage level. If the node is not in a high-impedance state, extra current from the resistor will not significantly affect its voltage level."
   ]
  },
  {
   "cell_type": "markdown",
   "metadata": {},
   "source": [
    "  #### ! \n",
    "  A pin can be in high-impedance state but not floating, such as when there are internal/external pull-up/down resistors."
   ]
  },
  {
   "cell_type": "markdown",
   "metadata": {},
   "source": [
    "## Gpio Output Modes\n",
    "When a GPIO is configured as an output, it can be used to drive a signal high or low. There are primarily two configuration options for GPIO outputs: push-pull and open-drain.\n",
    "#### Push-pull output\n",
    "    Push-pull is the default GPIO output setting in most cases. A push-pull GPIO has the ability to both source and sink current.\n",
    "\n",
    "With a push-pull GPIO, a transistor connects to VCC or GND to drive a signal high or low. When the output goes low, the signal is actively “pulled” to ground, and when the output goes high it is actively “pushed” to VCC.\n",
    "#### Open-drain\n",
    "Unlike push-pull, an open-drain output can only sink current. The output has two states: low and high-impedance. In order to achieve a logical high output on the line, a pull-up resistor is used to connect the open-drain output to the desired output voltage level.\n",
    "Open-drain GPIO can typically be configured in two different modes:\n",
    "\n",
    "Open-drain\n",
    "Open-drain with internal pull-up\n",
    "Most applications which utilize open-drain circuitry utilize external pull-ups on open-drain outputs. Often, internal pull-up values are not sufficient for the target circuitry.\n",
    "\n",
    "Open-drain outputs are useful when multiple gates or pins are connected together, such as with the I2C bus. When a device is not using the bus, the open-drain output is in high-impedance mode and the voltage level is pulled high by the pull-up resistor. When a device drives the output low, all connected lines will go low, as they are tied together.\n",
    "\n",
    "Another common use for open-drain outputs is having multiple external devices drive a single, active-low interrupt pin on a microcontroller.\n",
    "\n",
    "![Alt text](../../../../../../C:/Users/gsahinpi/Documents/github/Fall2022EE242/outputopendrain.png)\n",
    "\n"
   ]
  },
  {
   "cell_type": "markdown",
   "metadata": {},
   "source": [
    "![Alt text](../../../../../../C:/Users/gsahinpi/Documents/github/Fall2022EE242/intextpullup.png)"
   ]
  },
  {
   "cell_type": "markdown",
   "metadata": {},
   "source": [
    "####  OnBoard Push Button STM32F4 Discovery Board\n",
    "The discovery board comes with one user button connected with pin zero of PORTA GPIO. We will use this push button as a digital input to control onboard LEDs on the discovery board. \n",
    "As you can see in the following schematic diagram, the onboard user push button is connected with PA0 digital pin through a pull-down resistor. This means when the push button is not pressed, we will get an active low signal at the PA0 pin. Similarly, when it is pressed, we will get an active high signal on the PA0 pin. \n",
    "\n"
   ]
  },
  {
   "cell_type": "markdown",
   "metadata": {},
   "source": [
    "![Alt text](../../../../../../C:/Users/gsahinpi/Documents/github/Fall2022EE242/onboardbutton.jpg)"
   ]
  },
  {
   "cell_type": "markdown",
   "metadata": {},
   "source": []
  }
 ],
 "metadata": {
  "kernelspec": {
   "display_name": "Python 3.10.8 64-bit (microsoft store)",
   "language": "python",
   "name": "python3"
  },
  "language_info": {
   "name": "python",
   "version": "3.10.8"
  },
  "orig_nbformat": 4,
  "vscode": {
   "interpreter": {
    "hash": "e1c15735702c9405a45afa84cc6b61f146ad052feff4b6e0c617487cbe4d19e7"
   }
  }
 },
 "nbformat": 4,
 "nbformat_minor": 2
}
