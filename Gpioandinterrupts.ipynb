{
 "cells": [
  {
   "attachments": {},
   "cell_type": "markdown",
   "metadata": {},
   "source": [
    " #### Most modern GPIO pins are implemented as a tri-state buffer.\n",
    " (read chapter 14 of Embedded Systems with ARM Cortex-M Microcontrollers in Assembly Language and C, Yifeng Zhu )\n",
    "\n",
    "\n",
    "\n",
    "In digital circuits, a high impedance (also known as hi-Z, tri-stated, or floating) output is not being driven to any defined logic level by the output circuit.\n",
    " The signal is neither driven to a logical high nor low level; this third condition leads to the description \"tri-stated\".\n",
    " \n",
    "\n",
    "The high-impedance state of a given node in a circuit cannot be verified by a voltage measurement alone. A pull-up resistor (or pull-down resistor) can be used as a medium-impedance source to try to pull the wire to a high (or low) voltage level. If the node is not in a high-impedance state, extra current from the resistor will not significantly affect its voltage level."
   ]
  },
  {
   "cell_type": "markdown",
   "metadata": {},
   "source": [
    "  #### ! \n",
    "  A pin can be in high-impedance state but not floating, such as when there are internal/external pull-up/down resistors."
   ]
  },
  {
   "cell_type": "markdown",
   "metadata": {},
   "source": [
    "## Gpio Output Modes\n",
    "When a GPIO is configured as an output, it can be used to drive a signal high or low. There are primarily two configuration options for GPIO outputs: push-pull and open-drain.\n",
    "#### Push-pull output\n",
    "    Push-pull is the default GPIO output setting in most cases. A push-pull GPIO has the ability to both source and sink current.\n",
    "\n",
    "With a push-pull GPIO, a transistor connects to VCC or GND to drive a signal high or low. When the output goes low, the signal is actively “pulled” to ground, and when the output goes high it is actively “pushed” to VCC.\n",
    "#### Open-drain\n",
    "Unlike push-pull, an open-drain output can only sink current. The output has two states: low and high-impedance. In order to achieve a logical high output on the line, a pull-up resistor is used to connect the open-drain output to the desired output voltage level.\n",
    "Open-drain GPIO can typically be configured in two different modes:\n",
    "\n",
    "Open-drain\n",
    "Open-drain with internal pull-up\n",
    "Most applications which utilize open-drain circuitry utilize external pull-ups on open-drain outputs. Often, internal pull-up values are not sufficient for the target circuitry.\n",
    "\n",
    "Open-drain outputs are useful when multiple gates or pins are connected together, such as with the I2C bus. When a device is not using the bus, the open-drain output is in high-impedance mode and the voltage level is pulled high by the pull-up resistor. When a device drives the output low, all connected lines will go low, as they are tied together.\n",
    "\n",
    "Another common use for open-drain outputs is having multiple external devices drive a single, active-low interrupt pin on a microcontroller.\n",
    "\n",
    "![Alt text](../../../../../../C:/Users/gsahinpi/Documents/github/Fall2022EE242/outputopendrain.png)\n",
    "\n"
   ]
  },
  {
   "cell_type": "markdown",
   "metadata": {},
   "source": [
    "![Alt text](../../../../../../C:/Users/gsahinpi/Documents/github/Fall2022EE242/intextpullup.png)"
   ]
  },
  {
   "cell_type": "markdown",
   "metadata": {},
   "source": [
    "####  OnBoard Push Button STM32F4 Discovery Board\n",
    "The discovery board comes with one user button connected with pin zero of PORTA GPIO. We will use this push button as a digital input to control onboard LEDs on the discovery board. \n",
    "As you can see in the following schematic diagram, the onboard user push button is connected with PA0 digital pin through a pull-down resistor. This means when the push button is not pressed, we will get an active low signal at the PA0 pin. Similarly, when it is pressed, we will get an active high signal on the PA0 pin. \n",
    "\n"
   ]
  },
  {
   "cell_type": "markdown",
   "metadata": {},
   "source": [
    "![Alt text](../../../../../../C:/Users/gsahinpi/Documents/github/Fall2022EE242/onboardbutton.jpg)"
   ]
  },
  {
   "attachments": {},
   "cell_type": "markdown",
   "metadata": {},
   "source": [
    "#  Detect if button pressed\n",
    "\n",
    "1) find the pin : user manual page 31\n",
    "2) find the bus: STM32F407xx -0Datasheet page:19 (to clock the gate)\n",
    "3) find the adresses from reference manual and mask values\n",
    " "
   ]
  },
  {
   "cell_type": "code",
   "execution_count": null,
   "metadata": {
    "vscode": {
     "languageId": "plaintext"
    }
   },
   "outputs": [],
   "source": [
    "#C structures\n",
    "typedef struct { \n",
    "\n",
    "} typename;\n",
    "\n",
    "\n",
    "Assume i have two sets of 100 complex numbers and i need to add subtract multiply them. \n",
    "The problem is complex numbers are not represented in computers unlike reals,integers and chars.\n",
    "Why, because unlike the abaove data all the complex numbers are of the form \n",
    "a+b*i; Hence i need a way to create my own datatypes which structures stand for.\n",
    "The rest is to learn the syntax for reaching elements of a struct, setting or reading\n",
    "them, pass to functions , assigning pointers etc..\n",
    "\n",
    "Note : use #include <stdint.h> for precise integer handling "
   ]
  },
  {
   "cell_type": "code",
   "execution_count": null,
   "metadata": {
    "vscode": {
     "languageId": "plaintext"
    }
   },
   "outputs": [],
   "source": [
    "see page 287 of reference manual\n",
    "\n",
    "typedef struct\n",
    "{\n",
    "  uint32_t MODER;    /*!< GPIO port mode register,               Address offset: 0x00      */\n",
    "   uint32_t OTYPER;   /*!< GPIO port output type register,        Address offset: 0x04      */\n",
    "   uint32_t OSPEEDR;  /*!< GPIO port output speed register,       Address offset: 0x08      */\n",
    "  uint32_t PUPDR;    /*!< GPIO port pull-up/pull-down register,  Address offset: 0x0C      */\n",
    "  uint32_t IDR;      /*!< GPIO port input data register,         Address offset: 0x10      */\n",
    "   uint32_t ODR;      /*!< GPIO port output data register,        Address offset: 0x14      */\n",
    "  uint32_t BSRR;     /*!< GPIO port bit set/reset register,      Address offset: 0x18      */\n",
    "   uint32_t LCKR;     /*!< GPIO port configuration lock register, Address offset: 0x1C      */\n",
    "   uint32_t AFR[2];   /*!< GPIO alternate function registers,     Address offset: 0x20-0x24 */\n",
    "} GPIO_TypeDef;"
   ]
  },
  {
   "attachments": {},
   "cell_type": "raw",
   "metadata": {},
   "source": [
    "So we can use  the below structure for rcc\n",
    "typedef struct\n",
    "{\n",
    " uint32_t CR;            /*!< RCC clock control register,                                  Address offset: 0x00 */\n",
    " uint32_t PLLCFGR;       /*!< RCC PLL configuration register,                              Address offset: 0x04 */\n",
    "   uint32_t CFGR;          /*!< RCC clock configuration register,                            Address offset: 0x08 */\n",
    "  uint32_t CIR;           /*!< RCC clock interrupt register,                                Address offset: 0x0C */\n",
    "   uint32_t AHB1RSTR;      /*!< RCC AHB1 peripheral reset register,                          Address offset: 0x10 */\n",
    "   uint32_t AHB2RSTR;      /*!< RCC AHB2 peripheral reset register,                          Address offset: 0x14 */\n",
    "  uint32_t AHB3RSTR;      /*!< RCC AHB3 peripheral reset register,                          Address offset: 0x18 */\n",
    "  uint32_t      RESERVED0;     /*!< Reserved, 0x1C                                                                    */\n",
    " uint32_t APB1RSTR;      /*!< RCC APB1 peripheral reset register,                          Address offset: 0x20 */\n",
    "   uint32_t APB2RSTR;      /*!< RCC APB2 peripheral reset register,                          Address offset: 0x24 */\n",
    "  uint32_t      RESERVED1[2];  /*!< Reserved, 0x28-0x2C                                                               */\n",
    "   uint32_t AHB1ENR;       /*!< RCC AHB1 peripheral clock register,                          Address offset: 0x30 */\n",
    "   uint32_t AHB2ENR;       /*!< RCC AHB2 peripheral clock register,                          Address offset: 0x34 */\n",
    "  uint32_t AHB3ENR;       /*!< RCC AHB3 peripheral clock register,                          Address offset: 0x38 */\n",
    "  uint32_t      RESERVED2;     /*!< Reserved, 0x3C                                                                    */\n",
    "   uint32_t APB1ENR;       /*!< RCC APB1 peripheral clock enable register,                   Address offset: 0x40 */\n",
    "  uint32_t APB2ENR;       /*!< RCC APB2 peripheral clock enable register,                   Address offset: 0x44 */\n",
    "  uint32_t      RESERVED3[2];  /*!< Reserved, 0x48-0x4C                                                               */\n",
    "  uint32_t AHB1LPENR;     /*!< RCC AHB1 peripheral clock enable in low power mode register, Address offset: 0x50 */\n",
    "  uint32_t AHB2LPENR;     /*!< RCC AHB2 peripheral clock enable in low power mode register, Address offset: 0x54 */\n",
    "  uint32_t AHB3LPENR;     /*!< RCC AHB3 peripheral clock enable in low power mode register, Address offset: 0x58 */\n",
    "  uint32_t      RESERVED4;     /*!< Reserved, 0x5C                                                                    */\n",
    "  uint32_t APB1LPENR;     /*!< RCC APB1 peripheral clock enable in low power mode register, Address offset: 0x60 */\n",
    "  uint32_t APB2LPENR;     /*!< RCC APB2 peripheral clock enable in low power mode register, Address offset: 0x64 */\n",
    "  uint32_t      RESERVED5[2];  /*!< Reserved, 0x68-0x6C                                                               */\n",
    "  uint32_t BDCR;          /*!< RCC Backup domain control register,                          Address offset: 0x70 */\n",
    "  uint32_t CSR;           /*!< RCC clock control & status register,                         Address offset: 0x74 */\n",
    "  uint32_t      RESERVED6[2];  /*!< Reserved, 0x78-0x7C                                                               */\n",
    " uint32_t SSCGR;         /*!< RCC spread spectrum clock generation register,               Address offset: 0x80 */\n",
    "   uint32_t PLLI2SCFGR;    /*!< RCC PLLI2S configuration register,                           Address offset: 0x84 */\n",
    "} RCC_TypeDef;\n"
   ]
  },
  {
   "cell_type": "markdown",
   "metadata": {},
   "source": []
  },
  {
   "cell_type": "markdown",
   "metadata": {},
   "source": []
  }
 ],
 "metadata": {
  "kernelspec": {
   "display_name": "Python 3.10.8 64-bit (microsoft store)",
   "language": "python",
   "name": "python3"
  },
  "language_info": {
   "name": "python",
   "version": "3.10.8"
  },
  "orig_nbformat": 4,
  "vscode": {
   "interpreter": {
    "hash": "e1c15735702c9405a45afa84cc6b61f146ad052feff4b6e0c617487cbe4d19e7"
   }
  }
 },
 "nbformat": 4,
 "nbformat_minor": 2
}
